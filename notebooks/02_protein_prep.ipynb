{
 "cells": [
  {
   "cell_type": "code",
   "execution_count": 1,
   "id": "7790af71-b0fb-4671-9a02-3c8983c309f5",
   "metadata": {},
   "outputs": [
    {
     "name": "stdout",
     "output_type": "stream",
     "text": [
      "PDB exists: True C:\\Users\\ashak\\ad-quantum-repurpose\\data\\raw\\proteins\\4DVF.pdb\n"
     ]
    }
   ],
   "source": [
    "from pathlib import Path\n",
    "import numpy as np\n",
    "\n",
    "PROJECT = Path(r\"C:\\Users\\ashak\\ad-quantum-repurpose\")\n",
    "RAW = PROJECT / \"data\" / \"raw\"\n",
    "PROC = PROJECT / \"data\" / \"processed\"\n",
    "PROT_RAW = RAW / \"proteins\"\n",
    "PROT_PROC = PROC / \"proteins\"\n",
    "PROT_PROC.mkdir(parents=True, exist_ok=True)\n",
    "\n",
    "pdb_path = PROT_RAW / \"4DVF.pdb\"\n",
    "print(\"PDB exists:\", pdb_path.exists(), pdb_path)\n"
   ]
  },
  {
   "cell_type": "code",
   "execution_count": 2,
   "id": "ae46642c-6054-451d-9356-7be94bcf55db",
   "metadata": {},
   "outputs": [
    {
     "name": "stdout",
     "output_type": "stream",
     "text": [
      "Docking box center (x,y,z): [3.061, -0.128, 17.532]\n"
     ]
    }
   ],
   "source": [
    "import re\n",
    "\n",
    "het_coords = []\n",
    "with open(pdb_path, \"r\") as f:\n",
    "    for line in f:\n",
    "        if line.startswith(\"HETATM\"):\n",
    "            resname = line[17:20].strip()\n",
    "            if resname not in {\"HOH\",\"WAT\"}:\n",
    "                x = float(line[30:38]); y = float(line[38:46]); z = float(line[46:54])\n",
    "                het_coords.append([x,y,z])\n",
    "\n",
    "if not het_coords:\n",
    "    raise RuntimeError(\"No non-water HETATM found in 4DVF; cannot auto-center grid.\")\n",
    "\n",
    "centroid = np.mean(np.array(het_coords), axis=0)\n",
    "print(\"Docking box center (x,y,z):\", centroid.round(3).tolist())\n",
    "# Save for later steps\n",
    "np.savetxt(PROT_PROC / \"grid_center_xyz.txt\", centroid.reshape(1,3), fmt=\"%.3f\")\n"
   ]
  },
  {
   "cell_type": "code",
   "execution_count": 5,
   "id": "2f875beb-dede-4f5f-97bd-44c4949adbe3",
   "metadata": {},
   "outputs": [
    {
     "name": "stdout",
     "output_type": "stream",
     "text": [
      "Wrote receptor: C:\\Users\\ashak\\ad-quantum-repurpose\\data\\processed\\proteins\\BACE1_prepared.pdb size: 1251380 bytes\n"
     ]
    }
   ],
   "source": [
    "from pdbfixer import PDBFixer\n",
    "from openmm.app import PDBFile\n",
    "\n",
    "fixer = PDBFixer(filename=str(pdb_path))\n",
    "\n",
    "# Remove hetero atoms (ligands, ions) and waters for docking\n",
    "fixer.heterogens = False  # removes ligands/ions\n",
    "fixer.findMissingResidues()\n",
    "fixer.findMissingAtoms()\n",
    "fixer.addMissingAtoms()\n",
    "\n",
    "# Add hydrogens at physiological pH\n",
    "fixer.addMissingHydrogens(pH=7.4)\n",
    "\n",
    "receptor_pdb = PROT_PROC / \"BACE1_prepared.pdb\"\n",
    "with open(receptor_pdb, \"w\") as out:\n",
    "    PDBFile.writeFile(fixer.topology, fixer.positions, out, keepIds=True)\n",
    "\n",
    "print(\"Wrote receptor:\", receptor_pdb, \"size:\", receptor_pdb.stat().st_size, \"bytes\")\n"
   ]
  },
  {
   "cell_type": "code",
   "execution_count": 6,
   "id": "8337f51b-82df-4245-baa6-3eb26f9f61e6",
   "metadata": {},
   "outputs": [
    {
     "name": "stdout",
     "output_type": "stream",
     "text": [
      "Running: obabel C:\\Users\\ashak\\ad-quantum-repurpose\\data\\processed\\proteins\\BACE1_prepared.pdb -O C:\\Users\\ashak\\ad-quantum-repurpose\\data\\processed\\proteins\\BACE1_prepared.pdbqt -xr\n",
      "Wrote receptor PDBQT: True C:\\Users\\ashak\\ad-quantum-repurpose\\data\\processed\\proteins\\BACE1_prepared.pdbqt\n"
     ]
    }
   ],
   "source": [
    "import shutil, subprocess\n",
    "\n",
    "receptor_pdbqt = PROT_PROC / \"BACE1_prepared.pdbqt\"\n",
    "assert shutil.which(\"obabel\"), \"OpenBabel 'obabel' not found in PATH.\"\n",
    "\n",
    "cmd = [\n",
    "    \"obabel\",\n",
    "    str(receptor_pdb),\n",
    "    \"-O\", str(receptor_pdbqt),\n",
    "    \"-xr\"    # remove hydrogens from receptor rotatable bonds (common option); can omit if undesired\n",
    "]\n",
    "print(\"Running:\", \" \".join(cmd))\n",
    "subprocess.run(cmd, check=True)\n",
    "print(\"Wrote receptor PDBQT:\", receptor_pdbqt.exists(), receptor_pdbqt)\n"
   ]
  },
  {
   "cell_type": "code",
   "execution_count": 7,
   "id": "eaf5bf37-7b05-448d-b870-b9afe1de6d66",
   "metadata": {},
   "outputs": [
    {
     "name": "stdout",
     "output_type": "stream",
     "text": [
      "Saved grid size: (22.0, 22.0, 22.0)\n"
     ]
    }
   ],
   "source": [
    "box_size = (22.0, 22.0, 22.0)\n",
    "np.savetxt(PROT_PROC / \"grid_size_angs.txt\", np.array(box_size).reshape(1,3), fmt=\"%.1f\")\n",
    "print(\"Saved grid size:\", box_size)\n"
   ]
  },
  {
   "cell_type": "code",
   "execution_count": null,
   "id": "eba4bab7-58ee-4a3a-a664-038e1a2d9ab4",
   "metadata": {},
   "outputs": [],
   "source": []
  }
 ],
 "metadata": {
  "kernelspec": {
   "display_name": "adquant (py310)",
   "language": "python",
   "name": "adquant"
  },
  "language_info": {
   "codemirror_mode": {
    "name": "ipython",
    "version": 3
   },
   "file_extension": ".py",
   "mimetype": "text/x-python",
   "name": "python",
   "nbconvert_exporter": "python",
   "pygments_lexer": "ipython3",
   "version": "3.10.18"
  }
 },
 "nbformat": 4,
 "nbformat_minor": 5
}
