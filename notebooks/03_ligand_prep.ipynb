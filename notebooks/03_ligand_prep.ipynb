{
 "cells": [
  {
   "cell_type": "code",
   "execution_count": 1,
   "id": "d476b1d9-16dd-4cc5-be7e-0c178695a2cd",
   "metadata": {},
   "outputs": [
    {
     "name": "stdout",
     "output_type": "stream",
     "text": [
      "Ligands: ['donepezil', 'memantine', 'rivastigmine', 'galantamine', 'selegiline', 'rasagiline', 'riluzole', 'fluoxetine', 'sertraline', 'nilvadipine']\n"
     ]
    }
   ],
   "source": [
    "from pathlib import Path\n",
    "import csv\n",
    "from rdkit import Chem\n",
    "from rdkit.Chem import AllChem, rdMolDescriptors\n",
    "\n",
    "PROJECT = Path(r\"C:\\Users\\ashak\\ad-quantum-repurpose\")\n",
    "RAW = PROJECT / \"data\" / \"raw\"\n",
    "PROC = PROJECT / \"data\" / \"processed\"\n",
    "LIG_RAW = RAW / \"ligands\"\n",
    "LIG_PROC = PROC / \"ligands\"\n",
    "LIG_PROC.mkdir(parents=True, exist_ok=True)\n",
    "\n",
    "smiles_csv = LIG_RAW / \"seed_smiles.csv\"\n",
    "assert smiles_csv.exists(), f\"Missing {smiles_csv}\"\n",
    "ligands = []\n",
    "with open(smiles_csv) as f:\n",
    "    rdr = csv.DictReader(f)\n",
    "    for row in rdr:\n",
    "        ligands.append((row[\"name\"].strip(), row[\"smiles\"].strip()))\n",
    "\n",
    "print(\"Ligands:\", [n for n,_ in ligands])\n"
   ]
  },
  {
   "cell_type": "code",
   "execution_count": 2,
   "id": "4c112ca6-29e7-41bf-bd46-1986de4364fd",
   "metadata": {},
   "outputs": [
    {
     "name": "stdout",
     "output_type": "stream",
     "text": [
      "Prepared ligands: 10\n"
     ]
    }
   ],
   "source": [
    "from rdkit.Chem import rdDistGeom\n",
    "\n",
    "def prep_ligand(name, smi, outdir):\n",
    "    mol = Chem.MolFromSmiles(smi)\n",
    "    if mol is None:\n",
    "        print(\"!! BAD SMILES for\", name)\n",
    "        return None\n",
    "    mol = Chem.AddHs(mol)  # add hydrogens\n",
    "    params = rdDistGeom.ETKDGv3()\n",
    "    params.randomSeed = 0xf00d\n",
    "    cid = AllChem.EmbedMolecule(mol, params)\n",
    "    if cid == -1:\n",
    "        print(\"!! Embed failed for\", name)\n",
    "        return None\n",
    "    AllChem.MMFFOptimizeMolecule(mol, maxIters=500)\n",
    "\n",
    "    sdf_path = outdir / f\"{name}.sdf\"\n",
    "    pdb_path = outdir / f\"{name}.pdb\"\n",
    "    w = Chem.SDWriter(str(sdf_path)); w.write(mol); w.close()\n",
    "    Chem.MolToPDBFile(mol, str(pdb_path))\n",
    "    return sdf_path, pdb_path\n",
    "\n",
    "created = []\n",
    "for name, smi in ligands:\n",
    "    p = prep_ligand(name, smi, LIG_PROC)\n",
    "    if p: created.append((name, *p))\n",
    "print(\"Prepared ligands:\", len(created))\n"
   ]
  },
  {
   "cell_type": "code",
   "execution_count": 3,
   "id": "345ab89f-4df2-43d4-a6ef-c0724e327db0",
   "metadata": {},
   "outputs": [
    {
     "name": "stdout",
     "output_type": "stream",
     "text": [
      "PDBQT created: 10 / 10\n"
     ]
    }
   ],
   "source": [
    "import shutil, subprocess\n",
    "assert shutil.which(\"obabel\"), \"OpenBabel 'obabel' not found in PATH.\"\n",
    "\n",
    "ok = 0\n",
    "for name, sdf_path, pdb_path in created:\n",
    "    pdbqt_path = LIG_PROC / f\"{name}.pdbqt\"\n",
    "    # Use SDF as input (contains 3D + hydrogens); you could also use the PDB\n",
    "    cmd = [\"obabel\", str(sdf_path), \"-O\", str(pdbqt_path)]\n",
    "    r = subprocess.run(cmd)\n",
    "    if r.returncode == 0 and pdbqt_path.exists():\n",
    "        ok += 1\n",
    "    else:\n",
    "        print(\"!! PDBQT convert failed for\", name)\n",
    "\n",
    "print(f\"PDBQT created: {ok} / {len(created)}\")\n"
   ]
  },
  {
   "cell_type": "code",
   "execution_count": 4,
   "id": "5b0822ba-7e9b-4d86-94b0-82e88fc28668",
   "metadata": {},
   "outputs": [
    {
     "data": {
      "text/plain": [
       "[('donepezil', 392.20999275600076, 42.010000000000005, 3.8564000000000034),\n",
       " ('memantine', 181.183049736, 26.02, 3.084200000000001),\n",
       " ('rivastigmine', 221.10519334, 38.769999999999996, 2.0359),\n",
       " ('galantamine', 278.09429430800037, 39.44, 4.244900000000003),\n",
       " ('selegiline', 173.12044948, 12.03, 2.0361000000000002)]"
      ]
     },
     "execution_count": 4,
     "metadata": {},
     "output_type": "execute_result"
    }
   ],
   "source": [
    "rows = []\n",
    "for name, _, _ in created:\n",
    "    sdf = LIG_PROC / f\"{name}.sdf\"\n",
    "    mol = next(Chem.SDMolSupplier(str(sdf), removeHs=False))\n",
    "    mw = rdMolDescriptors.CalcExactMolWt(mol)\n",
    "    psa = rdMolDescriptors.CalcTPSA(mol)\n",
    "    clogp = rdMolDescriptors.CalcCrippenDescriptors(mol)[0]\n",
    "    rows.append((name, mw, psa, clogp))\n",
    "rows[:5]\n"
   ]
  },
  {
   "cell_type": "code",
   "execution_count": null,
   "id": "c3d1ee8c-2c60-432a-9f76-373e9351c473",
   "metadata": {},
   "outputs": [],
   "source": []
  }
 ],
 "metadata": {
  "kernelspec": {
   "display_name": "adquant (py310)",
   "language": "python",
   "name": "adquant"
  },
  "language_info": {
   "codemirror_mode": {
    "name": "ipython",
    "version": 3
   },
   "file_extension": ".py",
   "mimetype": "text/x-python",
   "name": "python",
   "nbconvert_exporter": "python",
   "pygments_lexer": "ipython3",
   "version": "3.10.18"
  }
 },
 "nbformat": 4,
 "nbformat_minor": 5
}
