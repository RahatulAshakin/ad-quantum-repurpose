{
 "cells": [
  {
   "cell_type": "code",
   "execution_count": 1,
   "id": "3e260e01-d496-4dcf-89c8-ce132c9bdf78",
   "metadata": {},
   "outputs": [
    {
     "name": "stdout",
     "output_type": "stream",
     "text": [
      "Python: 3.10.18 | packaged by conda-forge | (main, Jun  4 2025, 14:42:04) [MSC v.1943 64 bit (AMD64)]\n",
      "OS: Windows-10-10.0.26100-SP0\n"
     ]
    }
   ],
   "source": [
    "import sys, platform\n",
    "print(\"Python:\", sys.version)\n",
    "print(\"OS:\", platform.platform())\n"
   ]
  },
  {
   "cell_type": "code",
   "execution_count": 2,
   "id": "93779286-ccbb-4745-9924-44f465e3e59a",
   "metadata": {},
   "outputs": [
    {
     "name": "stdout",
     "output_type": "stream",
     "text": [
      "numpy 1.26.4\n",
      "pandas 2.1.4\n",
      "rdkit 2023.09.6\n"
     ]
    }
   ],
   "source": [
    "import numpy, pandas, scipy, matplotlib\n",
    "import rdkit, openbabel, Bio, pdbfixer, mdtraj\n",
    "print(\"numpy\", numpy.__version__)\n",
    "print(\"pandas\", pandas.__version__)\n",
    "print(\"rdkit\", rdkit.__version__)\n"
   ]
  },
  {
   "cell_type": "code",
   "execution_count": 3,
   "id": "b78033ba-c1aa-49a9-a5cd-a4db2f67b9e5",
   "metadata": {},
   "outputs": [
    {
     "name": "stdout",
     "output_type": "stream",
     "text": [
      "smina path: C:\\Users\\ashak\\anaconda3\\envs\\adquant\\Library\\bin\\smina.EXE\n",
      "vina path: None\n"
     ]
    }
   ],
   "source": [
    "import shutil, subprocess\n",
    "print(\"smina path:\", shutil.which(\"smina\"))\n",
    "print(\"vina path:\", shutil.which(\"vina\"))\n"
   ]
  },
  {
   "cell_type": "code",
   "execution_count": 4,
   "id": "8021e29f-ac1c-4ecf-b8c2-5f1a640ed65a",
   "metadata": {},
   "outputs": [
    {
     "ename": "ModuleNotFoundError",
     "evalue": "No module named 'qiskit'",
     "output_type": "error",
     "traceback": [
      "\u001b[1;31m---------------------------------------------------------------------------\u001b[0m",
      "\u001b[1;31mModuleNotFoundError\u001b[0m                       Traceback (most recent call last)",
      "Cell \u001b[1;32mIn[4], line 1\u001b[0m\n\u001b[1;32m----> 1\u001b[0m \u001b[38;5;28;01mimport\u001b[39;00m\u001b[38;5;250m \u001b[39m\u001b[38;5;21;01mqiskit\u001b[39;00m\u001b[38;5;241m,\u001b[39m\u001b[38;5;250m \u001b[39m\u001b[38;5;21;01mqiskit_aer\u001b[39;00m\u001b[38;5;241m,\u001b[39m\u001b[38;5;250m \u001b[39m\u001b[38;5;21;01mqiskit_nature\u001b[39;00m\u001b[38;5;241m,\u001b[39m\u001b[38;5;250m \u001b[39m\u001b[38;5;21;01mpyscf\u001b[39;00m\n\u001b[0;32m      2\u001b[0m \u001b[38;5;28mprint\u001b[39m(\u001b[38;5;124m\"\u001b[39m\u001b[38;5;124mqiskit\u001b[39m\u001b[38;5;124m\"\u001b[39m, qiskit\u001b[38;5;241m.\u001b[39m__qiskit_version__)\n\u001b[0;32m      3\u001b[0m \u001b[38;5;28mprint\u001b[39m(\u001b[38;5;124m\"\u001b[39m\u001b[38;5;124mqiskit-aer OK:\u001b[39m\u001b[38;5;124m\"\u001b[39m, qiskit_aer\u001b[38;5;241m.\u001b[39m__version__)\n",
      "\u001b[1;31mModuleNotFoundError\u001b[0m: No module named 'qiskit'"
     ]
    }
   ],
   "source": [
    "import qiskit, qiskit_aer, qiskit_nature, pyscf\n",
    "print(\"qiskit\", qiskit.__qiskit_version__)\n",
    "print(\"qiskit-aer OK:\", qiskit_aer.__version__)\n",
    "print(\"qiskit-nature OK:\", qiskit_nature.__version__)\n",
    "print(\"pyscf\", pyscf.__version__)\n"
   ]
  },
  {
   "cell_type": "code",
   "execution_count": 5,
   "id": "e8eb982a-9e5f-45c1-9535-6f53a96bfa97",
   "metadata": {},
   "outputs": [
    {
     "name": "stdout",
     "output_type": "stream",
     "text": [
      "OpenMM 8.3.1\n"
     ]
    }
   ],
   "source": [
    "import openmm\n",
    "from openmm import app\n",
    "from pdbfixer import PDBFixer\n",
    "print(\"OpenMM\", openmm.__version__)\n"
   ]
  },
  {
   "cell_type": "code",
   "execution_count": 6,
   "id": "8e7e2646-05f3-4149-aca8-1e3e5aa96838",
   "metadata": {},
   "outputs": [
    {
     "name": "stdout",
     "output_type": "stream",
     "text": [
      "sys.executable = C:\\Users\\ashak\\anaconda3\\envs\\adquant\\python.exe\n",
      "CONDA_PREFIX   = C:\\Users\\ashak\\anaconda3\\envs\\adquant\n"
     ]
    }
   ],
   "source": [
    "import sys, os\n",
    "print(\"sys.executable =\", sys.executable)\n",
    "print(\"CONDA_PREFIX   =\", os.environ.get(\"CONDA_PREFIX\"))\n"
   ]
  },
  {
   "cell_type": "code",
   "execution_count": null,
   "id": "4ddcc2f1-78f8-4c55-8937-c308693aaa78",
   "metadata": {},
   "outputs": [],
   "source": []
  }
 ],
 "metadata": {
  "kernelspec": {
   "display_name": "adquant (py310)",
   "language": "python",
   "name": "adquant"
  },
  "language_info": {
   "codemirror_mode": {
    "name": "ipython",
    "version": 3
   },
   "file_extension": ".py",
   "mimetype": "text/x-python",
   "name": "python",
   "nbconvert_exporter": "python",
   "pygments_lexer": "ipython3",
   "version": "3.10.18"
  }
 },
 "nbformat": 4,
 "nbformat_minor": 5
}
